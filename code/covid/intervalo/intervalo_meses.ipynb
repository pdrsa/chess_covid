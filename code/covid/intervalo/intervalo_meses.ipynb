{
 "cells": [
  {
   "cell_type": "code",
   "execution_count": 1,
   "metadata": {},
   "outputs": [],
   "source": [
    "# -*- coding: utf 8\n",
    "\n",
    "from matplotlib import pyplot as plt\n",
    "from matplotlib import ticker\n",
    "from datetime import datetime\n",
    "import pandas as pd\n",
    "import numpy as np\n",
    "\n",
    "plt.style.use('seaborn-colorblind')\n",
    "plt.ion()"
   ]
  },
  {
   "cell_type": "markdown",
   "metadata": {},
   "source": [
    "Dados obtidos do site https://brasil.io/dataset/covid19/files/\n",
    "\n",
    "Arquivo 'caso_full.csv'\n",
    "\n",
    "Data de captura: 2021-02-11"
   ]
  },
  {
   "cell_type": "code",
   "execution_count": 2,
   "metadata": {},
   "outputs": [
    {
     "data": {
      "text/html": [
       "<div>\n",
       "<style scoped>\n",
       "    .dataframe tbody tr th:only-of-type {\n",
       "        vertical-align: middle;\n",
       "    }\n",
       "\n",
       "    .dataframe tbody tr th {\n",
       "        vertical-align: top;\n",
       "    }\n",
       "\n",
       "    .dataframe thead th {\n",
       "        text-align: right;\n",
       "    }\n",
       "</style>\n",
       "<table border=\"1\" class=\"dataframe\">\n",
       "  <thead>\n",
       "    <tr style=\"text-align: right;\">\n",
       "      <th></th>\n",
       "      <th>player_id</th>\n",
       "      <th>username</th>\n",
       "      <th>country</th>\n",
       "      <th>followers</th>\n",
       "      <th>last_online</th>\n",
       "      <th>joined</th>\n",
       "      <th>is_streamer</th>\n",
       "      <th>status</th>\n",
       "      <th>title</th>\n",
       "      <th>best_rapid_rating</th>\n",
       "      <th>best_blitz_rating</th>\n",
       "      <th>best_bullet_rating</th>\n",
       "    </tr>\n",
       "  </thead>\n",
       "  <tbody>\n",
       "    <tr>\n",
       "      <th>0</th>\n",
       "      <td>5999382</td>\n",
       "      <td>-whitetiger-</td>\n",
       "      <td>IN</td>\n",
       "      <td>4</td>\n",
       "      <td>1611593481</td>\n",
       "      <td>1319353379</td>\n",
       "      <td>False</td>\n",
       "      <td>basic</td>\n",
       "      <td>None</td>\n",
       "      <td>1733</td>\n",
       "      <td>1487</td>\n",
       "      <td>1345</td>\n",
       "    </tr>\n",
       "    <tr>\n",
       "      <th>1</th>\n",
       "      <td>113902696</td>\n",
       "      <td>00000000000a5</td>\n",
       "      <td>IN</td>\n",
       "      <td>2</td>\n",
       "      <td>1611550728</td>\n",
       "      <td>1611071564</td>\n",
       "      <td>False</td>\n",
       "      <td>basic</td>\n",
       "      <td>None</td>\n",
       "      <td>1298</td>\n",
       "      <td>0</td>\n",
       "      <td>0</td>\n",
       "    </tr>\n",
       "    <tr>\n",
       "      <th>2</th>\n",
       "      <td>106710230</td>\n",
       "      <td>00000000a</td>\n",
       "      <td>IN</td>\n",
       "      <td>5</td>\n",
       "      <td>1611585871</td>\n",
       "      <td>1608800475</td>\n",
       "      <td>False</td>\n",
       "      <td>basic</td>\n",
       "      <td>None</td>\n",
       "      <td>1016</td>\n",
       "      <td>0</td>\n",
       "      <td>0</td>\n",
       "    </tr>\n",
       "    <tr>\n",
       "      <th>3</th>\n",
       "      <td>103508064</td>\n",
       "      <td>00000000oooooooo</td>\n",
       "      <td>IN</td>\n",
       "      <td>0</td>\n",
       "      <td>1611590946</td>\n",
       "      <td>1607689710</td>\n",
       "      <td>False</td>\n",
       "      <td>basic</td>\n",
       "      <td>None</td>\n",
       "      <td>988</td>\n",
       "      <td>0</td>\n",
       "      <td>0</td>\n",
       "    </tr>\n",
       "    <tr>\n",
       "      <th>4</th>\n",
       "      <td>48828546</td>\n",
       "      <td>000000pankaj</td>\n",
       "      <td>IN</td>\n",
       "      <td>5</td>\n",
       "      <td>1611574958</td>\n",
       "      <td>1534435936</td>\n",
       "      <td>False</td>\n",
       "      <td>basic</td>\n",
       "      <td>None</td>\n",
       "      <td>1171</td>\n",
       "      <td>1454</td>\n",
       "      <td>1041</td>\n",
       "    </tr>\n",
       "  </tbody>\n",
       "</table>\n",
       "</div>"
      ],
      "text/plain": [
       "   player_id          username country  followers  last_online      joined  \\\n",
       "0    5999382      -whitetiger-      IN          4   1611593481  1319353379   \n",
       "1  113902696     00000000000a5      IN          2   1611550728  1611071564   \n",
       "2  106710230         00000000a      IN          5   1611585871  1608800475   \n",
       "3  103508064  00000000oooooooo      IN          0   1611590946  1607689710   \n",
       "4   48828546      000000pankaj      IN          5   1611574958  1534435936   \n",
       "\n",
       "   is_streamer status title  best_rapid_rating  best_blitz_rating  \\\n",
       "0        False  basic  None               1733               1487   \n",
       "1        False  basic  None               1298                  0   \n",
       "2        False  basic  None               1016                  0   \n",
       "3        False  basic  None                988                  0   \n",
       "4        False  basic  None               1171               1454   \n",
       "\n",
       "   best_bullet_rating  \n",
       "0                1345  \n",
       "1                   0  \n",
       "2                   0  \n",
       "3                   0  \n",
       "4                1041  "
      ]
     },
     "execution_count": 2,
     "metadata": {},
     "output_type": "execute_result"
    }
   ],
   "source": [
    "players = pd.read_csv('players.csv')\n",
    "players.head()"
   ]
  },
  {
   "cell_type": "code",
   "execution_count": 3,
   "metadata": {},
   "outputs": [
    {
     "data": {
      "text/html": [
       "<div>\n",
       "<style scoped>\n",
       "    .dataframe tbody tr th:only-of-type {\n",
       "        vertical-align: middle;\n",
       "    }\n",
       "\n",
       "    .dataframe tbody tr th {\n",
       "        vertical-align: top;\n",
       "    }\n",
       "\n",
       "    .dataframe thead th {\n",
       "        text-align: right;\n",
       "    }\n",
       "</style>\n",
       "<table border=\"1\" class=\"dataframe\">\n",
       "  <thead>\n",
       "    <tr style=\"text-align: right;\">\n",
       "      <th></th>\n",
       "      <th>player_id</th>\n",
       "      <th>username</th>\n",
       "      <th>country</th>\n",
       "      <th>followers</th>\n",
       "      <th>last_online</th>\n",
       "      <th>joined</th>\n",
       "      <th>is_streamer</th>\n",
       "      <th>status</th>\n",
       "      <th>title</th>\n",
       "      <th>best_rapid_rating</th>\n",
       "      <th>best_blitz_rating</th>\n",
       "      <th>best_bullet_rating</th>\n",
       "    </tr>\n",
       "  </thead>\n",
       "  <tbody>\n",
       "    <tr>\n",
       "      <th>0</th>\n",
       "      <td>5999382</td>\n",
       "      <td>-whitetiger-</td>\n",
       "      <td>IN</td>\n",
       "      <td>4</td>\n",
       "      <td>1611593481</td>\n",
       "      <td>2011-10-23</td>\n",
       "      <td>False</td>\n",
       "      <td>basic</td>\n",
       "      <td>None</td>\n",
       "      <td>1733</td>\n",
       "      <td>1487</td>\n",
       "      <td>1345</td>\n",
       "    </tr>\n",
       "    <tr>\n",
       "      <th>1</th>\n",
       "      <td>113902696</td>\n",
       "      <td>00000000000a5</td>\n",
       "      <td>IN</td>\n",
       "      <td>2</td>\n",
       "      <td>1611550728</td>\n",
       "      <td>2021-01-19</td>\n",
       "      <td>False</td>\n",
       "      <td>basic</td>\n",
       "      <td>None</td>\n",
       "      <td>1298</td>\n",
       "      <td>0</td>\n",
       "      <td>0</td>\n",
       "    </tr>\n",
       "    <tr>\n",
       "      <th>2</th>\n",
       "      <td>106710230</td>\n",
       "      <td>00000000a</td>\n",
       "      <td>IN</td>\n",
       "      <td>5</td>\n",
       "      <td>1611585871</td>\n",
       "      <td>2020-12-24</td>\n",
       "      <td>False</td>\n",
       "      <td>basic</td>\n",
       "      <td>None</td>\n",
       "      <td>1016</td>\n",
       "      <td>0</td>\n",
       "      <td>0</td>\n",
       "    </tr>\n",
       "    <tr>\n",
       "      <th>3</th>\n",
       "      <td>103508064</td>\n",
       "      <td>00000000oooooooo</td>\n",
       "      <td>IN</td>\n",
       "      <td>0</td>\n",
       "      <td>1611590946</td>\n",
       "      <td>2020-12-11</td>\n",
       "      <td>False</td>\n",
       "      <td>basic</td>\n",
       "      <td>None</td>\n",
       "      <td>988</td>\n",
       "      <td>0</td>\n",
       "      <td>0</td>\n",
       "    </tr>\n",
       "    <tr>\n",
       "      <th>4</th>\n",
       "      <td>48828546</td>\n",
       "      <td>000000pankaj</td>\n",
       "      <td>IN</td>\n",
       "      <td>5</td>\n",
       "      <td>1611574958</td>\n",
       "      <td>2018-08-16</td>\n",
       "      <td>False</td>\n",
       "      <td>basic</td>\n",
       "      <td>None</td>\n",
       "      <td>1171</td>\n",
       "      <td>1454</td>\n",
       "      <td>1041</td>\n",
       "    </tr>\n",
       "  </tbody>\n",
       "</table>\n",
       "</div>"
      ],
      "text/plain": [
       "   player_id          username country  followers  last_online      joined  \\\n",
       "0    5999382      -whitetiger-      IN          4   1611593481  2011-10-23   \n",
       "1  113902696     00000000000a5      IN          2   1611550728  2021-01-19   \n",
       "2  106710230         00000000a      IN          5   1611585871  2020-12-24   \n",
       "3  103508064  00000000oooooooo      IN          0   1611590946  2020-12-11   \n",
       "4   48828546      000000pankaj      IN          5   1611574958  2018-08-16   \n",
       "\n",
       "   is_streamer status title  best_rapid_rating  best_blitz_rating  \\\n",
       "0        False  basic  None               1733               1487   \n",
       "1        False  basic  None               1298                  0   \n",
       "2        False  basic  None               1016                  0   \n",
       "3        False  basic  None                988                  0   \n",
       "4        False  basic  None               1171               1454   \n",
       "\n",
       "   best_bullet_rating  \n",
       "0                1345  \n",
       "1                   0  \n",
       "2                   0  \n",
       "3                   0  \n",
       "4                1041  "
      ]
     },
     "execution_count": 3,
     "metadata": {},
     "output_type": "execute_result"
    }
   ],
   "source": [
    "jog = players.copy()\n",
    "correto = np.array(jog[\"joined\"])\n",
    "l = []\n",
    "for i in range(0,len(correto)):\n",
    "  l.append(datetime.utcfromtimestamp(correto[i]).strftime('%Y-%m-%d'))\n",
    "  \n",
    "jog[\"joined\"] = l\n",
    "jog.head()"
   ]
  },
  {
   "cell_type": "code",
   "execution_count": 4,
   "metadata": {},
   "outputs": [],
   "source": [
    "datas = jog.groupby(\"joined\").count()\n",
    "datas['new_players'] = datas['player_id']\n",
    "datas = datas.drop(columns=['player_id', 'username', 'country', 'followers', 'last_online', 'is_streamer', 'status', 'title', 'best_rapid_rating', 'best_blitz_rating', 'best_bullet_rating'])"
   ]
  },
  {
   "cell_type": "code",
   "execution_count": 5,
   "metadata": {},
   "outputs": [],
   "source": [
    "#Função que retorna os novos jogadores em um determinado mês, a partir de 2015 até 2020 ou no ano de 2020\n",
    "\n",
    "def newPlayersMes(mes, pandemia=False):\n",
    "    players_mes = datas.copy()\n",
    "    players_mes = players_mes.reset_index()\n",
    "    players_mes = players_mes.rename(columns={\"joined\": \"date\"})\n",
    "    filtro = []\n",
    "    for i in range(len(players_mes)):\n",
    "        if pandemia:\n",
    "            filtro.append(players_mes['date'][i][5:7] == mes and int(players_mes['date'][i][0:4]) == 2020)\n",
    "        else:\n",
    "            filtro.append(players_mes['date'][i][5:7] == mes and int(players_mes['date'][i][0:4]) < 2020 and int(players_mes['date'][i][0:4]) > 2015)\n",
    "    players_mes = players_mes[filtro]\n",
    "    return players_mes"
   ]
  },
  {
   "cell_type": "code",
   "execution_count": 6,
   "metadata": {},
   "outputs": [
    {
     "data": {
      "text/html": [
       "<div>\n",
       "<style scoped>\n",
       "    .dataframe tbody tr th:only-of-type {\n",
       "        vertical-align: middle;\n",
       "    }\n",
       "\n",
       "    .dataframe tbody tr th {\n",
       "        vertical-align: top;\n",
       "    }\n",
       "\n",
       "    .dataframe thead th {\n",
       "        text-align: right;\n",
       "    }\n",
       "</style>\n",
       "<table border=\"1\" class=\"dataframe\">\n",
       "  <thead>\n",
       "    <tr style=\"text-align: right;\">\n",
       "      <th></th>\n",
       "      <th>date</th>\n",
       "      <th>new_players</th>\n",
       "    </tr>\n",
       "  </thead>\n",
       "  <tbody>\n",
       "    <tr>\n",
       "      <th>3129</th>\n",
       "      <td>2016-01-01</td>\n",
       "      <td>124</td>\n",
       "    </tr>\n",
       "    <tr>\n",
       "      <th>3130</th>\n",
       "      <td>2016-01-02</td>\n",
       "      <td>121</td>\n",
       "    </tr>\n",
       "    <tr>\n",
       "      <th>3131</th>\n",
       "      <td>2016-01-03</td>\n",
       "      <td>118</td>\n",
       "    </tr>\n",
       "    <tr>\n",
       "      <th>3132</th>\n",
       "      <td>2016-01-04</td>\n",
       "      <td>147</td>\n",
       "    </tr>\n",
       "    <tr>\n",
       "      <th>3133</th>\n",
       "      <td>2016-01-05</td>\n",
       "      <td>127</td>\n",
       "    </tr>\n",
       "    <tr>\n",
       "      <th>...</th>\n",
       "      <td>...</td>\n",
       "      <td>...</td>\n",
       "    </tr>\n",
       "    <tr>\n",
       "      <th>4251</th>\n",
       "      <td>2019-01-27</td>\n",
       "      <td>363</td>\n",
       "    </tr>\n",
       "    <tr>\n",
       "      <th>4252</th>\n",
       "      <td>2019-01-28</td>\n",
       "      <td>349</td>\n",
       "    </tr>\n",
       "    <tr>\n",
       "      <th>4253</th>\n",
       "      <td>2019-01-29</td>\n",
       "      <td>364</td>\n",
       "    </tr>\n",
       "    <tr>\n",
       "      <th>4254</th>\n",
       "      <td>2019-01-30</td>\n",
       "      <td>342</td>\n",
       "    </tr>\n",
       "    <tr>\n",
       "      <th>4255</th>\n",
       "      <td>2019-01-31</td>\n",
       "      <td>330</td>\n",
       "    </tr>\n",
       "  </tbody>\n",
       "</table>\n",
       "<p>124 rows × 2 columns</p>\n",
       "</div>"
      ],
      "text/plain": [
       "            date  new_players\n",
       "3129  2016-01-01          124\n",
       "3130  2016-01-02          121\n",
       "3131  2016-01-03          118\n",
       "3132  2016-01-04          147\n",
       "3133  2016-01-05          127\n",
       "...          ...          ...\n",
       "4251  2019-01-27          363\n",
       "4252  2019-01-28          349\n",
       "4253  2019-01-29          364\n",
       "4254  2019-01-30          342\n",
       "4255  2019-01-31          330\n",
       "\n",
       "[124 rows x 2 columns]"
      ]
     },
     "execution_count": 6,
     "metadata": {},
     "output_type": "execute_result"
    }
   ],
   "source": [
    "#Novos jogadores no mês de janeiro, entre 2015 e 2020\n",
    "\n",
    "newPlayersMes('01')"
   ]
  },
  {
   "cell_type": "code",
   "execution_count": 7,
   "metadata": {},
   "outputs": [
    {
     "data": {
      "image/png": "[encoded data removed]",
      "text/plain": [
       "<Figure size 432x288 with 1 Axes>"
      ]
     },
     "metadata": {
      "needs_background": "light"
     },
     "output_type": "display_data"
    },
    {
     "data": {
      "image/png": "[encoded data removed]",
      "text/plain": [
       "<Figure size 432x288 with 1 Axes>"
      ]
     },
     "metadata": {
      "needs_background": "light"
     },
     "output_type": "display_data"
    }
   ],
   "source": [
    "#Histograma com os novos jogadoes no mês de janeiro entre 2015 e 2020 (pré pandemia) e em 2020 (pós pandemia)\n",
    "\n",
    "janeiroPre = newPlayersMes('01')['new_players']\n",
    "janeiroPos = newPlayersMes('01', True)['new_players']\n",
    "plt.hist(janeiroPre, ec='black', bins=30)\n",
    "plt.title('Pre')\n",
    "plt.show()\n",
    "plt.hist(janeiroPos, ec='black', bins=30)\n",
    "plt.title('Pos')\n",
    "plt.show()"
   ]
  },
  {
   "cell_type": "code",
   "execution_count": 8,
   "metadata": {},
   "outputs": [],
   "source": [
    "#Função que calcula o intervalo de confiança a partir da fórmula\n",
    "\n",
    "def calcula_IC(df):\n",
    "    n = df.count()\n",
    "    desvio = np.std(df, ddof = 1)\n",
    "    media = np.mean(df)\n",
    "    inferior = media - 1.96*(desvio/(n**(1/2))) # 5%\n",
    "    superior = media + 1.96*(desvio/(n**(1/2)))\n",
    "    return [ inferior, superior]"
   ]
  },
  {
   "cell_type": "code",
   "execution_count": 9,
   "metadata": {},
   "outputs": [
    {
     "data": {
      "text/plain": [
       "[221.1719496153434, 254.79579232014044]"
      ]
     },
     "execution_count": 9,
     "metadata": {},
     "output_type": "execute_result"
    }
   ],
   "source": [
    "#Intervalo de confiança da média de novos jogadores em janeiro, pré pandemia\n",
    "\n",
    "icJaneiroPre = calcula_IC(janeiroPre)\n",
    "icJaneiroPre"
   ]
  },
  {
   "cell_type": "code",
   "execution_count": 10,
   "metadata": {},
   "outputs": [
    {
     "data": {
      "text/plain": [
       "237.98387096774192"
      ]
     },
     "execution_count": 10,
     "metadata": {},
     "output_type": "execute_result"
    }
   ],
   "source": [
    "np.mean(janeiroPre)"
   ]
  },
  {
   "cell_type": "code",
   "execution_count": 11,
   "metadata": {},
   "outputs": [
    {
     "data": {
      "text/plain": [
       "[503.66367724052907, 523.626645340116]"
      ]
     },
     "execution_count": 11,
     "metadata": {},
     "output_type": "execute_result"
    }
   ],
   "source": [
    "#Intervalo de confiança da média de novos jogadores em janeiro, pós pandemia\n",
    "\n",
    "icJaneiroPos = calcula_IC(janeiroPos)\n",
    "icJaneiroPos"
   ]
  },
  {
   "cell_type": "code",
   "execution_count": 12,
   "metadata": {},
   "outputs": [
    {
     "data": {
      "text/plain": [
       "513.6451612903226"
      ]
     },
     "execution_count": 12,
     "metadata": {},
     "output_type": "execute_result"
    }
   ],
   "source": [
    "np.mean(janeiroPos)"
   ]
  },
  {
   "cell_type": "code",
   "execution_count": 13,
   "metadata": {},
   "outputs": [],
   "source": [
    "#Teste AB\n",
    "\n",
    "def teste_ab(df_hyp_menor, df_hyp_maior):\n",
    "    return calcula_IC(df_hyp_menor)[1] < calcula_IC(df_hyp_maior)[0]"
   ]
  },
  {
   "cell_type": "code",
   "execution_count": 14,
   "metadata": {},
   "outputs": [
    {
     "data": {
      "text/plain": [
       "True"
      ]
     },
     "execution_count": 14,
     "metadata": {},
     "output_type": "execute_result"
    }
   ],
   "source": [
    "#Janeiro\n",
    "teste_ab(newPlayersMes('01')['new_players'], newPlayersMes('01', True)['new_players'])"
   ]
  },
  {
   "cell_type": "code",
   "execution_count": 15,
   "metadata": {},
   "outputs": [
    {
     "name": "stdout",
     "output_type": "stream",
     "text": [
      "Durante 2020 a média de novos jogadores saiu do intervalo de confiança no mês\n",
      "01:  True\n",
      "02:  True\n",
      "03:  True\n",
      "04:  True\n",
      "05:  True\n",
      "06:  True\n",
      "07:  True\n",
      "08:  True\n",
      "09:  True\n",
      "10:  True\n",
      "11:  True\n",
      "12:  True\n"
     ]
    }
   ],
   "source": [
    "print(\"Durante 2020 a média de novos jogadores saiu do intervalo de confiança no mês\")\n",
    "for i in range(1,13):\n",
    "    mes = str(i)\n",
    "    if i < 10:\n",
    "        mes = '0' + mes\n",
    "    print(mes + ': ', teste_ab(newPlayersMes(mes)['new_players'], newPlayersMes(mes, True)['new_players']))"
   ]
  },
  {
   "cell_type": "code",
   "execution_count": 16,
   "metadata": {},
   "outputs": [
    {
     "name": "stdout",
     "output_type": "stream",
     "text": [
      "Durante 2020 a média de novos jogadores saiu do intervalo de confiança no mês\n",
      "01:  [221.1719496153434, 254.79579232014044] 513.6451612903226 False\n",
      "02:  [214.8340619779255, 246.13938934950812] 527.3448275862069 False\n",
      "03:  [219.90392284354078, 257.61220618871727] 1066.0645161290322 False\n",
      "04:  [210.10507696704667, 249.9282563662867] 1591.5 False\n",
      "05:  [202.56508104366014, 241.85427379504955] 1470.967741935484 False\n",
      "06:  [184.18816599476125, 217.0451673385721] 1553.6333333333334 False\n",
      "07:  [191.7223068438293, 222.97124154326747] 1312.8709677419354 False\n",
      "08:  [224.93001646658035, 260.408693210839] 1285.7096774193549 False\n",
      "09:  [224.03621661922463, 257.44711671410874] 1199.8 False\n",
      "10:  [230.41804783217802, 263.84001668395103] 1624.5806451612902 False\n",
      "11:  [273.96808312198146, 317.19858354468516] 5718.966666666666 False\n",
      "12:  [317.88526814776867, 363.21150604577974] 7659.967741935484 False\n"
     ]
    }
   ],
   "source": [
    "print(\"Durante 2020 a média de novos jogadores saiu do intervalo de confiança no mês\")\n",
    "ints = [[],[]]\n",
    "medias = []\n",
    "for i in range(1,13):\n",
    "    mes = str(i)\n",
    "    if i < 10:\n",
    "        mes = '0' + mes\n",
    "    ic = calcula_IC(newPlayersMes(mes)['new_players'])\n",
    "    mean = np.mean(newPlayersMes(mes, True)['new_players'])\n",
    "    print(mes + ': ', ic, mean, (ic[0] <= mean and ic[1] >= mean))\n",
    "    ints[0].append(ic[0])\n",
    "    ints[1].append(ic[1])\n",
    "    medias.append(mean)"
   ]
  },
  {
   "cell_type": "code",
   "execution_count": 17,
   "metadata": {},
   "outputs": [
    {
     "data": {
      "image/png": "[encoded data removed]",
      "text/plain": [
       "<Figure size 360x216 with 1 Axes>"
      ]
     },
     "metadata": {
      "needs_background": "light"
     },
     "output_type": "display_data"
    },
    {
     "data": {
      "image/png": "[encoded data removed]",
      "text/plain": [
       "<Figure size 360x216 with 1 Axes>"
      ]
     },
     "metadata": {
      "needs_background": "light"
     },
     "output_type": "display_data"
    }
   ],
   "source": [
    "meses = ['01', '02', '03', '04', '05', '06', '07', '08', '09', '10', '11', '12']\n",
    "zz = np.array(ints)\n",
    "dd = pd.DataFrame(zz, columns=meses)\n",
    "plt.figure(figsize=(5,3))\n",
    "dd.boxplot(grid=False)\n",
    "plt.title('Intervalos de Confiança de 2016 até 2019')\n",
    "plt.xlabel('Mês')\n",
    "plt.ylabel(\"Novos jogadores\")\n",
    "plt.savefig('ics.pdf')\n",
    "plt.show()\n",
    "\n",
    "plt.figure(figsize=(5,3))\n",
    "plt.yscale('log')\n",
    "dd.boxplot(grid=False)\n",
    "plt.ylim(100,10000)\n",
    "plt.scatter(x=range(1,13), y=medias, alpha=1)\n",
    "plt.title('Comparação dos Intervalos com as médias de 2020')\n",
    "plt.xlabel('Mês')\n",
    "plt.ylabel(\"Novos jogadores\")\n",
    "plt.savefig('icsmedias.pdf')\n",
    "plt.show()"
   ]
  },
  {
   "cell_type": "code",
   "execution_count": null,
   "metadata": {},
   "outputs": [],
   "source": []
  }
 ],
 "metadata": {
  "kernelspec": {
   "display_name": "Python 3",
   "language": "python",
   "name": "python3"
  },
  "language_info": {
   "codemirror_mode": {
    "name": "ipython",
    "version": 3
   },
   "file_extension": ".py",
   "mimetype": "text/x-python",
   "name": "python",
   "nbconvert_exporter": "python",
   "pygments_lexer": "ipython3",
   "version": "3.8.3"
  }
 },
 "nbformat": 4,
 "nbformat_minor": 4
}
