{
 "cells": [
  {
   "cell_type": "markdown",
   "metadata": {
    "id": "QsGvB0JOe-kE"
   },
   "source": [
    "Hipótese Nula - Jogadores com elo mais alto tendem a ter uma média de partidas jogadas maior do que os jogadores de elo mais baixo"
   ]
  },
  {
   "cell_type": "code",
   "execution_count": 1,
   "metadata": {
    "id": "G_uQZ0ryd06A"
   },
   "outputs": [],
   "source": [
    "import numpy as np\n",
    "import matplotlib.pyplot as plt\n",
    "import pandas as pd"
   ]
  },
  {
   "cell_type": "markdown",
   "metadata": {
    "id": "HwEfJ8z2f3f0"
   },
   "source": [
    "Primeiramente preciso criar um dataframe com:\n",
    "\n",
    "Nome do jogador | ELO (em blitz ou em rapid) | Quantidade de partidas jogadas (2019 e 2020)"
   ]
  },
  {
   "cell_type": "code",
   "execution_count": 2,
   "metadata": {
    "colab": {
     "base_uri": "https://localhost:8080/"
    },
    "id": "62D5_SfPe9yE",
    "outputId": "0a7ab72b-dc17-487a-ab09-341a98013a08"
   },
   "outputs": [
    {
     "name": "stderr",
     "output_type": "stream",
     "text": [
      "/usr/lib/python3/dist-packages/IPython/core/interactiveshell.py:3062: DtypeWarning: Columns (0,3,4,5,6,9,10,11) have mixed types.Specify dtype option on import or set low_memory=False.\n",
      "  has_raised = await self.run_ast_nodes(code_ast.body, cell_name,\n"
     ]
    }
   ],
   "source": [
    "#df_matches = pd.read_csv('matches_100000.csv')\n",
    "df_matches = pd.read_csv('matches.csv')\n",
    "df_players = pd.read_csv('players.csv')"
   ]
  },
  {
   "cell_type": "code",
   "execution_count": 3,
   "metadata": {
    "colab": {
     "base_uri": "https://localhost:8080/",
     "height": 293
    },
    "id": "tojsxaIdlLK4",
    "outputId": "ff8cbbe8-b737-4ec2-f585-6088e704627c"
   },
   "outputs": [
    {
     "data": {
      "text/html": [
       "<div>\n",
       "<style scoped>\n",
       "    .dataframe tbody tr th:only-of-type {\n",
       "        vertical-align: middle;\n",
       "    }\n",
       "\n",
       "    .dataframe tbody tr th {\n",
       "        vertical-align: top;\n",
       "    }\n",
       "\n",
       "    .dataframe thead th {\n",
       "        text-align: right;\n",
       "    }\n",
       "</style>\n",
       "<table border=\"1\" class=\"dataframe\">\n",
       "  <thead>\n",
       "    <tr style=\"text-align: right;\">\n",
       "      <th></th>\n",
       "      <th>url</th>\n",
       "      <th>white_username</th>\n",
       "      <th>black_username</th>\n",
       "      <th>end_time</th>\n",
       "      <th>time_control</th>\n",
       "      <th>time_class</th>\n",
       "      <th>rules</th>\n",
       "      <th>rated</th>\n",
       "    </tr>\n",
       "  </thead>\n",
       "  <tbody>\n",
       "    <tr>\n",
       "      <th>0</th>\n",
       "      <td>https://www.chess.com/game/daily/186915562</td>\n",
       "      <td>Iviny</td>\n",
       "      <td>Revenant_1</td>\n",
       "      <td>1550460011</td>\n",
       "      <td>1/1209600</td>\n",
       "      <td>daily</td>\n",
       "      <td>chess</td>\n",
       "      <td>False</td>\n",
       "    </tr>\n",
       "    <tr>\n",
       "      <th>1</th>\n",
       "      <td>https://www.chess.com/game/daily/196781256</td>\n",
       "      <td>BetaSource</td>\n",
       "      <td>Iviny</td>\n",
       "      <td>1553458809</td>\n",
       "      <td>1/604800</td>\n",
       "      <td>daily</td>\n",
       "      <td>chess</td>\n",
       "      <td>True</td>\n",
       "    </tr>\n",
       "    <tr>\n",
       "      <th>2</th>\n",
       "      <td>https://www.chess.com/game/daily/197826364</td>\n",
       "      <td>abomfim</td>\n",
       "      <td>NJAC</td>\n",
       "      <td>1547827671</td>\n",
       "      <td>1/259200</td>\n",
       "      <td>daily</td>\n",
       "      <td>chess</td>\n",
       "      <td>True</td>\n",
       "    </tr>\n",
       "    <tr>\n",
       "      <th>3</th>\n",
       "      <td>https://www.chess.com/game/daily/199402778</td>\n",
       "      <td>tianyuzhe</td>\n",
       "      <td>abcfls</td>\n",
       "      <td>1548151208</td>\n",
       "      <td>1/604800</td>\n",
       "      <td>daily</td>\n",
       "      <td>chess</td>\n",
       "      <td>True</td>\n",
       "    </tr>\n",
       "    <tr>\n",
       "      <th>4</th>\n",
       "      <td>https://www.chess.com/game/daily/200930412</td>\n",
       "      <td>abomfim</td>\n",
       "      <td>Tytusik</td>\n",
       "      <td>1546711375</td>\n",
       "      <td>1/259200</td>\n",
       "      <td>daily</td>\n",
       "      <td>chess</td>\n",
       "      <td>True</td>\n",
       "    </tr>\n",
       "  </tbody>\n",
       "</table>\n",
       "</div>"
      ],
      "text/plain": [
       "                                          url white_username black_username  \\\n",
       "0  https://www.chess.com/game/daily/186915562          Iviny     Revenant_1   \n",
       "1  https://www.chess.com/game/daily/196781256     BetaSource          Iviny   \n",
       "2  https://www.chess.com/game/daily/197826364        abomfim           NJAC   \n",
       "3  https://www.chess.com/game/daily/199402778      tianyuzhe         abcfls   \n",
       "4  https://www.chess.com/game/daily/200930412        abomfim        Tytusik   \n",
       "\n",
       "     end_time time_control time_class  rules  rated  \n",
       "0  1550460011    1/1209600      daily  chess  False  \n",
       "1  1553458809     1/604800      daily  chess   True  \n",
       "2  1547827671     1/259200      daily  chess   True  \n",
       "3  1548151208     1/604800      daily  chess   True  \n",
       "4  1546711375     1/259200      daily  chess   True  "
      ]
     },
     "execution_count": 3,
     "metadata": {},
     "output_type": "execute_result"
    }
   ],
   "source": [
    "df_matches.head()"
   ]
  },
  {
   "cell_type": "code",
   "execution_count": 4,
   "metadata": {
    "colab": {
     "base_uri": "https://localhost:8080/",
     "height": 226
    },
    "id": "28LfhinXgq6c",
    "outputId": "9a007e7b-9cae-4407-ed2d-abda543e6906"
   },
   "outputs": [
    {
     "data": {
      "text/html": [
       "<div>\n",
       "<style scoped>\n",
       "    .dataframe tbody tr th:only-of-type {\n",
       "        vertical-align: middle;\n",
       "    }\n",
       "\n",
       "    .dataframe tbody tr th {\n",
       "        vertical-align: top;\n",
       "    }\n",
       "\n",
       "    .dataframe thead th {\n",
       "        text-align: right;\n",
       "    }\n",
       "</style>\n",
       "<table border=\"1\" class=\"dataframe\">\n",
       "  <thead>\n",
       "    <tr style=\"text-align: right;\">\n",
       "      <th></th>\n",
       "      <th>player_id</th>\n",
       "      <th>username</th>\n",
       "      <th>country</th>\n",
       "      <th>followers</th>\n",
       "      <th>last_online</th>\n",
       "      <th>joined</th>\n",
       "      <th>is_streamer</th>\n",
       "      <th>status</th>\n",
       "      <th>title</th>\n",
       "      <th>best_rapid_rating</th>\n",
       "      <th>best_blitz_rating</th>\n",
       "      <th>best_bullet_rating</th>\n",
       "    </tr>\n",
       "  </thead>\n",
       "  <tbody>\n",
       "    <tr>\n",
       "      <th>0</th>\n",
       "      <td>5999382</td>\n",
       "      <td>-whitetiger-</td>\n",
       "      <td>IN</td>\n",
       "      <td>4</td>\n",
       "      <td>1611593481</td>\n",
       "      <td>1319353379</td>\n",
       "      <td>False</td>\n",
       "      <td>basic</td>\n",
       "      <td>None</td>\n",
       "      <td>1733</td>\n",
       "      <td>1487</td>\n",
       "      <td>1345</td>\n",
       "    </tr>\n",
       "    <tr>\n",
       "      <th>1</th>\n",
       "      <td>113902696</td>\n",
       "      <td>00000000000a5</td>\n",
       "      <td>IN</td>\n",
       "      <td>2</td>\n",
       "      <td>1611550728</td>\n",
       "      <td>1611071564</td>\n",
       "      <td>False</td>\n",
       "      <td>basic</td>\n",
       "      <td>None</td>\n",
       "      <td>1298</td>\n",
       "      <td>0</td>\n",
       "      <td>0</td>\n",
       "    </tr>\n",
       "    <tr>\n",
       "      <th>2</th>\n",
       "      <td>106710230</td>\n",
       "      <td>00000000a</td>\n",
       "      <td>IN</td>\n",
       "      <td>5</td>\n",
       "      <td>1611585871</td>\n",
       "      <td>1608800475</td>\n",
       "      <td>False</td>\n",
       "      <td>basic</td>\n",
       "      <td>None</td>\n",
       "      <td>1016</td>\n",
       "      <td>0</td>\n",
       "      <td>0</td>\n",
       "    </tr>\n",
       "    <tr>\n",
       "      <th>3</th>\n",
       "      <td>103508064</td>\n",
       "      <td>00000000oooooooo</td>\n",
       "      <td>IN</td>\n",
       "      <td>0</td>\n",
       "      <td>1611590946</td>\n",
       "      <td>1607689710</td>\n",
       "      <td>False</td>\n",
       "      <td>basic</td>\n",
       "      <td>None</td>\n",
       "      <td>988</td>\n",
       "      <td>0</td>\n",
       "      <td>0</td>\n",
       "    </tr>\n",
       "    <tr>\n",
       "      <th>4</th>\n",
       "      <td>48828546</td>\n",
       "      <td>000000pankaj</td>\n",
       "      <td>IN</td>\n",
       "      <td>5</td>\n",
       "      <td>1611574958</td>\n",
       "      <td>1534435936</td>\n",
       "      <td>False</td>\n",
       "      <td>basic</td>\n",
       "      <td>None</td>\n",
       "      <td>1171</td>\n",
       "      <td>1454</td>\n",
       "      <td>1041</td>\n",
       "    </tr>\n",
       "  </tbody>\n",
       "</table>\n",
       "</div>"
      ],
      "text/plain": [
       "   player_id          username country followers last_online      joined  \\\n",
       "0    5999382      -whitetiger-      IN         4  1611593481  1319353379   \n",
       "1  113902696     00000000000a5      IN         2  1611550728  1611071564   \n",
       "2  106710230         00000000a      IN         5  1611585871  1608800475   \n",
       "3  103508064  00000000oooooooo      IN         0  1611590946  1607689710   \n",
       "4   48828546      000000pankaj      IN         5  1611574958  1534435936   \n",
       "\n",
       "  is_streamer status title best_rapid_rating best_blitz_rating  \\\n",
       "0       False  basic  None              1733              1487   \n",
       "1       False  basic  None              1298                 0   \n",
       "2       False  basic  None              1016                 0   \n",
       "3       False  basic  None               988                 0   \n",
       "4       False  basic  None              1171              1454   \n",
       "\n",
       "  best_bullet_rating  \n",
       "0               1345  \n",
       "1                  0  \n",
       "2                  0  \n",
       "3                  0  \n",
       "4               1041  "
      ]
     },
     "execution_count": 4,
     "metadata": {},
     "output_type": "execute_result"
    }
   ],
   "source": [
    "df_players.head()"
   ]
  },
  {
   "cell_type": "code",
   "execution_count": 5,
   "metadata": {
    "colab": {
     "base_uri": "https://localhost:8080/",
     "height": 226
    },
    "id": "AItdH_twhJ0k",
    "outputId": "c59f588a-888a-4e42-9919-079e24c96327"
   },
   "outputs": [
    {
     "data": {
      "text/html": [
       "<div>\n",
       "<style scoped>\n",
       "    .dataframe tbody tr th:only-of-type {\n",
       "        vertical-align: middle;\n",
       "    }\n",
       "\n",
       "    .dataframe tbody tr th {\n",
       "        vertical-align: top;\n",
       "    }\n",
       "\n",
       "    .dataframe thead th {\n",
       "        text-align: right;\n",
       "    }\n",
       "</style>\n",
       "<table border=\"1\" class=\"dataframe\">\n",
       "  <thead>\n",
       "    <tr style=\"text-align: right;\">\n",
       "      <th></th>\n",
       "      <th>player_id</th>\n",
       "      <th>username</th>\n",
       "      <th>country</th>\n",
       "      <th>followers</th>\n",
       "      <th>last_online</th>\n",
       "      <th>joined</th>\n",
       "      <th>is_streamer</th>\n",
       "      <th>status</th>\n",
       "      <th>title</th>\n",
       "      <th>best_rapid_rating</th>\n",
       "      <th>best_blitz_rating</th>\n",
       "      <th>best_bullet_rating</th>\n",
       "      <th>match_count</th>\n",
       "    </tr>\n",
       "  </thead>\n",
       "  <tbody>\n",
       "    <tr>\n",
       "      <th>0</th>\n",
       "      <td>5999382</td>\n",
       "      <td>-whitetiger-</td>\n",
       "      <td>IN</td>\n",
       "      <td>4</td>\n",
       "      <td>1611593481</td>\n",
       "      <td>1319353379</td>\n",
       "      <td>False</td>\n",
       "      <td>basic</td>\n",
       "      <td>None</td>\n",
       "      <td>1733</td>\n",
       "      <td>1487</td>\n",
       "      <td>1345</td>\n",
       "      <td>0</td>\n",
       "    </tr>\n",
       "    <tr>\n",
       "      <th>1</th>\n",
       "      <td>113902696</td>\n",
       "      <td>00000000000a5</td>\n",
       "      <td>IN</td>\n",
       "      <td>2</td>\n",
       "      <td>1611550728</td>\n",
       "      <td>1611071564</td>\n",
       "      <td>False</td>\n",
       "      <td>basic</td>\n",
       "      <td>None</td>\n",
       "      <td>1298</td>\n",
       "      <td>0</td>\n",
       "      <td>0</td>\n",
       "      <td>0</td>\n",
       "    </tr>\n",
       "    <tr>\n",
       "      <th>2</th>\n",
       "      <td>106710230</td>\n",
       "      <td>00000000a</td>\n",
       "      <td>IN</td>\n",
       "      <td>5</td>\n",
       "      <td>1611585871</td>\n",
       "      <td>1608800475</td>\n",
       "      <td>False</td>\n",
       "      <td>basic</td>\n",
       "      <td>None</td>\n",
       "      <td>1016</td>\n",
       "      <td>0</td>\n",
       "      <td>0</td>\n",
       "      <td>0</td>\n",
       "    </tr>\n",
       "    <tr>\n",
       "      <th>3</th>\n",
       "      <td>103508064</td>\n",
       "      <td>00000000oooooooo</td>\n",
       "      <td>IN</td>\n",
       "      <td>0</td>\n",
       "      <td>1611590946</td>\n",
       "      <td>1607689710</td>\n",
       "      <td>False</td>\n",
       "      <td>basic</td>\n",
       "      <td>None</td>\n",
       "      <td>988</td>\n",
       "      <td>0</td>\n",
       "      <td>0</td>\n",
       "      <td>0</td>\n",
       "    </tr>\n",
       "    <tr>\n",
       "      <th>4</th>\n",
       "      <td>48828546</td>\n",
       "      <td>000000pankaj</td>\n",
       "      <td>IN</td>\n",
       "      <td>5</td>\n",
       "      <td>1611574958</td>\n",
       "      <td>1534435936</td>\n",
       "      <td>False</td>\n",
       "      <td>basic</td>\n",
       "      <td>None</td>\n",
       "      <td>1171</td>\n",
       "      <td>1454</td>\n",
       "      <td>1041</td>\n",
       "      <td>0</td>\n",
       "    </tr>\n",
       "  </tbody>\n",
       "</table>\n",
       "</div>"
      ],
      "text/plain": [
       "   player_id          username country followers last_online      joined  \\\n",
       "0    5999382      -whitetiger-      IN         4  1611593481  1319353379   \n",
       "1  113902696     00000000000a5      IN         2  1611550728  1611071564   \n",
       "2  106710230         00000000a      IN         5  1611585871  1608800475   \n",
       "3  103508064  00000000oooooooo      IN         0  1611590946  1607689710   \n",
       "4   48828546      000000pankaj      IN         5  1611574958  1534435936   \n",
       "\n",
       "  is_streamer status title best_rapid_rating best_blitz_rating  \\\n",
       "0       False  basic  None              1733              1487   \n",
       "1       False  basic  None              1298                 0   \n",
       "2       False  basic  None              1016                 0   \n",
       "3       False  basic  None               988                 0   \n",
       "4       False  basic  None              1171              1454   \n",
       "\n",
       "  best_bullet_rating  match_count  \n",
       "0               1345            0  \n",
       "1                  0            0  \n",
       "2                  0            0  \n",
       "3                  0            0  \n",
       "4               1041            0  "
      ]
     },
     "execution_count": 5,
     "metadata": {},
     "output_type": "execute_result"
    }
   ],
   "source": [
    "df_players['match_count'] = 0\n",
    "df_players.head()"
   ]
  },
  {
   "cell_type": "code",
   "execution_count": 6,
   "metadata": {
    "colab": {
     "base_uri": "https://localhost:8080/",
     "height": 226
    },
    "id": "xZJ9Bt5Fi6DY",
    "outputId": "191386a9-1183-463e-c7b5-1164f0ed6625"
   },
   "outputs": [
    {
     "data": {
      "text/html": [
       "<div>\n",
       "<style scoped>\n",
       "    .dataframe tbody tr th:only-of-type {\n",
       "        vertical-align: middle;\n",
       "    }\n",
       "\n",
       "    .dataframe tbody tr th {\n",
       "        vertical-align: top;\n",
       "    }\n",
       "\n",
       "    .dataframe thead th {\n",
       "        text-align: right;\n",
       "    }\n",
       "</style>\n",
       "<table border=\"1\" class=\"dataframe\">\n",
       "  <thead>\n",
       "    <tr style=\"text-align: right;\">\n",
       "      <th></th>\n",
       "      <th>player_id</th>\n",
       "      <th>username</th>\n",
       "      <th>country</th>\n",
       "      <th>followers</th>\n",
       "      <th>last_online</th>\n",
       "      <th>joined</th>\n",
       "      <th>is_streamer</th>\n",
       "      <th>status</th>\n",
       "      <th>title</th>\n",
       "      <th>best_rapid_rating</th>\n",
       "      <th>best_blitz_rating</th>\n",
       "      <th>best_bullet_rating</th>\n",
       "      <th>match_count</th>\n",
       "    </tr>\n",
       "  </thead>\n",
       "  <tbody>\n",
       "    <tr>\n",
       "      <th>669593</th>\n",
       "      <td>5685093</td>\n",
       "      <td>-lh</td>\n",
       "      <td>BR</td>\n",
       "      <td>3</td>\n",
       "      <td>1612241732</td>\n",
       "      <td>1314420617</td>\n",
       "      <td>False</td>\n",
       "      <td>basic</td>\n",
       "      <td>None</td>\n",
       "      <td>1246</td>\n",
       "      <td>1545</td>\n",
       "      <td>0</td>\n",
       "      <td>0</td>\n",
       "    </tr>\n",
       "    <tr>\n",
       "      <th>669594</th>\n",
       "      <td>115076418</td>\n",
       "      <td>000000tiago</td>\n",
       "      <td>BR</td>\n",
       "      <td>0</td>\n",
       "      <td>1612207289</td>\n",
       "      <td>1611414297</td>\n",
       "      <td>False</td>\n",
       "      <td>basic</td>\n",
       "      <td>None</td>\n",
       "      <td>1220</td>\n",
       "      <td>0</td>\n",
       "      <td>0</td>\n",
       "      <td>0</td>\n",
       "    </tr>\n",
       "    <tr>\n",
       "      <th>669595</th>\n",
       "      <td>78469178</td>\n",
       "      <td>00000al</td>\n",
       "      <td>BR</td>\n",
       "      <td>1</td>\n",
       "      <td>1612232011</td>\n",
       "      <td>1588502506</td>\n",
       "      <td>False</td>\n",
       "      <td>basic</td>\n",
       "      <td>None</td>\n",
       "      <td>0</td>\n",
       "      <td>863</td>\n",
       "      <td>817</td>\n",
       "      <td>0</td>\n",
       "    </tr>\n",
       "    <tr>\n",
       "      <th>669596</th>\n",
       "      <td>105481462</td>\n",
       "      <td>00000d</td>\n",
       "      <td>BR</td>\n",
       "      <td>0</td>\n",
       "      <td>1612219048</td>\n",
       "      <td>1608368991</td>\n",
       "      <td>False</td>\n",
       "      <td>basic</td>\n",
       "      <td>None</td>\n",
       "      <td>971</td>\n",
       "      <td>891</td>\n",
       "      <td>915</td>\n",
       "      <td>0</td>\n",
       "    </tr>\n",
       "    <tr>\n",
       "      <th>669597</th>\n",
       "      <td>85274162</td>\n",
       "      <td>0002vinicius</td>\n",
       "      <td>BR</td>\n",
       "      <td>0</td>\n",
       "      <td>1612224014</td>\n",
       "      <td>1593628642</td>\n",
       "      <td>False</td>\n",
       "      <td>basic</td>\n",
       "      <td>None</td>\n",
       "      <td>901</td>\n",
       "      <td>537</td>\n",
       "      <td>0</td>\n",
       "      <td>0</td>\n",
       "    </tr>\n",
       "  </tbody>\n",
       "</table>\n",
       "</div>"
      ],
      "text/plain": [
       "        player_id      username country followers last_online      joined  \\\n",
       "669593    5685093           -lh      BR         3  1612241732  1314420617   \n",
       "669594  115076418   000000tiago      BR         0  1612207289  1611414297   \n",
       "669595   78469178       00000al      BR         1  1612232011  1588502506   \n",
       "669596  105481462        00000d      BR         0  1612219048  1608368991   \n",
       "669597   85274162  0002vinicius      BR         0  1612224014  1593628642   \n",
       "\n",
       "       is_streamer status title best_rapid_rating best_blitz_rating  \\\n",
       "669593       False  basic  None              1246              1545   \n",
       "669594       False  basic  None              1220                 0   \n",
       "669595       False  basic  None                 0               863   \n",
       "669596       False  basic  None               971               891   \n",
       "669597       False  basic  None               901               537   \n",
       "\n",
       "       best_bullet_rating  match_count  \n",
       "669593                  0            0  \n",
       "669594                  0            0  \n",
       "669595                817            0  \n",
       "669596                915            0  \n",
       "669597                  0            0  "
      ]
     },
     "execution_count": 6,
     "metadata": {},
     "output_type": "execute_result"
    }
   ],
   "source": [
    "filtro = df_players['country'] == 'BR'\n",
    "df_players = df_players[filtro]\n",
    "df_players.head()"
   ]
  },
  {
   "cell_type": "code",
   "execution_count": 7,
   "metadata": {
    "colab": {
     "base_uri": "https://localhost:8080/",
     "height": 258
    },
    "id": "2OLH3zXdj630",
    "outputId": "4a7fe144-104e-4248-e7d2-820109c31a71"
   },
   "outputs": [
    {
     "data": {
      "text/html": [
       "<div>\n",
       "<style scoped>\n",
       "    .dataframe tbody tr th:only-of-type {\n",
       "        vertical-align: middle;\n",
       "    }\n",
       "\n",
       "    .dataframe tbody tr th {\n",
       "        vertical-align: top;\n",
       "    }\n",
       "\n",
       "    .dataframe thead th {\n",
       "        text-align: right;\n",
       "    }\n",
       "</style>\n",
       "<table border=\"1\" class=\"dataframe\">\n",
       "  <thead>\n",
       "    <tr style=\"text-align: right;\">\n",
       "      <th></th>\n",
       "      <th>player_id</th>\n",
       "      <th>country</th>\n",
       "      <th>followers</th>\n",
       "      <th>last_online</th>\n",
       "      <th>joined</th>\n",
       "      <th>is_streamer</th>\n",
       "      <th>status</th>\n",
       "      <th>title</th>\n",
       "      <th>best_rapid_rating</th>\n",
       "      <th>best_blitz_rating</th>\n",
       "      <th>best_bullet_rating</th>\n",
       "      <th>match_count</th>\n",
       "    </tr>\n",
       "    <tr>\n",
       "      <th>username</th>\n",
       "      <th></th>\n",
       "      <th></th>\n",
       "      <th></th>\n",
       "      <th></th>\n",
       "      <th></th>\n",
       "      <th></th>\n",
       "      <th></th>\n",
       "      <th></th>\n",
       "      <th></th>\n",
       "      <th></th>\n",
       "      <th></th>\n",
       "      <th></th>\n",
       "    </tr>\n",
       "  </thead>\n",
       "  <tbody>\n",
       "    <tr>\n",
       "      <th>-lh</th>\n",
       "      <td>5685093</td>\n",
       "      <td>BR</td>\n",
       "      <td>3</td>\n",
       "      <td>1612241732</td>\n",
       "      <td>1314420617</td>\n",
       "      <td>False</td>\n",
       "      <td>basic</td>\n",
       "      <td>None</td>\n",
       "      <td>1246</td>\n",
       "      <td>1545</td>\n",
       "      <td>0</td>\n",
       "      <td>0</td>\n",
       "    </tr>\n",
       "    <tr>\n",
       "      <th>000000tiago</th>\n",
       "      <td>115076418</td>\n",
       "      <td>BR</td>\n",
       "      <td>0</td>\n",
       "      <td>1612207289</td>\n",
       "      <td>1611414297</td>\n",
       "      <td>False</td>\n",
       "      <td>basic</td>\n",
       "      <td>None</td>\n",
       "      <td>1220</td>\n",
       "      <td>0</td>\n",
       "      <td>0</td>\n",
       "      <td>0</td>\n",
       "    </tr>\n",
       "    <tr>\n",
       "      <th>00000al</th>\n",
       "      <td>78469178</td>\n",
       "      <td>BR</td>\n",
       "      <td>1</td>\n",
       "      <td>1612232011</td>\n",
       "      <td>1588502506</td>\n",
       "      <td>False</td>\n",
       "      <td>basic</td>\n",
       "      <td>None</td>\n",
       "      <td>0</td>\n",
       "      <td>863</td>\n",
       "      <td>817</td>\n",
       "      <td>0</td>\n",
       "    </tr>\n",
       "    <tr>\n",
       "      <th>00000d</th>\n",
       "      <td>105481462</td>\n",
       "      <td>BR</td>\n",
       "      <td>0</td>\n",
       "      <td>1612219048</td>\n",
       "      <td>1608368991</td>\n",
       "      <td>False</td>\n",
       "      <td>basic</td>\n",
       "      <td>None</td>\n",
       "      <td>971</td>\n",
       "      <td>891</td>\n",
       "      <td>915</td>\n",
       "      <td>0</td>\n",
       "    </tr>\n",
       "    <tr>\n",
       "      <th>0002vinicius</th>\n",
       "      <td>85274162</td>\n",
       "      <td>BR</td>\n",
       "      <td>0</td>\n",
       "      <td>1612224014</td>\n",
       "      <td>1593628642</td>\n",
       "      <td>False</td>\n",
       "      <td>basic</td>\n",
       "      <td>None</td>\n",
       "      <td>901</td>\n",
       "      <td>537</td>\n",
       "      <td>0</td>\n",
       "      <td>0</td>\n",
       "    </tr>\n",
       "  </tbody>\n",
       "</table>\n",
       "</div>"
      ],
      "text/plain": [
       "              player_id country followers last_online      joined is_streamer  \\\n",
       "username                                                                        \n",
       "-lh             5685093      BR         3  1612241732  1314420617       False   \n",
       "000000tiago   115076418      BR         0  1612207289  1611414297       False   \n",
       "00000al        78469178      BR         1  1612232011  1588502506       False   \n",
       "00000d        105481462      BR         0  1612219048  1608368991       False   \n",
       "0002vinicius   85274162      BR         0  1612224014  1593628642       False   \n",
       "\n",
       "             status title best_rapid_rating best_blitz_rating  \\\n",
       "username                                                        \n",
       "-lh           basic  None              1246              1545   \n",
       "000000tiago   basic  None              1220                 0   \n",
       "00000al       basic  None                 0               863   \n",
       "00000d        basic  None               971               891   \n",
       "0002vinicius  basic  None               901               537   \n",
       "\n",
       "             best_bullet_rating  match_count  \n",
       "username                                      \n",
       "-lh                           0            0  \n",
       "000000tiago                   0            0  \n",
       "00000al                     817            0  \n",
       "00000d                      915            0  \n",
       "0002vinicius                  0            0  "
      ]
     },
     "execution_count": 7,
     "metadata": {},
     "output_type": "execute_result"
    }
   ],
   "source": [
    "n_df_players = df_players.set_index('username')\n",
    "n_df_players.head()"
   ]
  },
  {
   "cell_type": "code",
   "execution_count": 8,
   "metadata": {
    "id": "Wxm0IAKAjmwU"
   },
   "outputs": [],
   "source": [
    "# acessar a conta de partidas de um jogador (posso incrementar por aqui tbm!)\n",
    "#n_df_players.at['-lh','match_count']"
   ]
  },
  {
   "cell_type": "code",
   "execution_count": 9,
   "metadata": {
    "id": "fi1rJTgihUkE"
   },
   "outputs": [],
   "source": [
    "# como checar se um username está minha lista de jogadores\n",
    "#'-lh' in n_df_players.index"
   ]
  },
  {
   "cell_type": "code",
   "execution_count": 10,
   "metadata": {
    "id": "5tKijHieAuE8"
   },
   "outputs": [],
   "source": [
    "# como checar se um username está na lista de jogadores que a gnt pegou as partidas\n",
    "#f = open('chosen_players.txt','r')\n",
    "#lines = f.readlines()\n",
    "#print('0002vinicius'+'\\n' in lines)\n",
    "#f.close()"
   ]
  },
  {
   "cell_type": "code",
   "execution_count": 11,
   "metadata": {
    "id": "SWB3xkm1k1GY"
   },
   "outputs": [],
   "source": [
    "# código pra setar quantas partidas cada jogador jogou\n",
    "# mas só vou registrar as partidas dos jogadores que a gnt pegou as partidas!\n",
    "f = open('chosen_players.txt','r')\n",
    "lines = f.readlines()\n",
    "\n",
    "for i in range(len(df_matches)):\n",
    "  # descobre quem são os jogadores\n",
    "  white = df_matches.at[i,'white_username']\n",
    "  black = df_matches.at[i,'black_username']\n",
    "    \n",
    "  if white in n_df_players.index and white+'\\n' in lines:\n",
    "    # caso o jogador das brancas estiver na nossa lista de jogadores\n",
    "    n_df_players.at[white,'match_count'] += 1\n",
    "  \n",
    "  if black in n_df_players.index and black+'\\n' in lines:\n",
    "    # caso o jogador das pretas estiver na nossa lista de jogadores\n",
    "    n_df_players.at[black,'match_count'] += 1\n",
    "\n",
    "f.close()"
   ]
  },
  {
   "cell_type": "code",
   "execution_count": 12,
   "metadata": {
    "colab": {
     "base_uri": "https://localhost:8080/",
     "height": 258
    },
    "id": "XTEQqQ2klp9M",
    "outputId": "5408a205-180f-4bfe-9413-9ca3571e3d95"
   },
   "outputs": [
    {
     "data": {
      "text/html": [
       "<div>\n",
       "<style scoped>\n",
       "    .dataframe tbody tr th:only-of-type {\n",
       "        vertical-align: middle;\n",
       "    }\n",
       "\n",
       "    .dataframe tbody tr th {\n",
       "        vertical-align: top;\n",
       "    }\n",
       "\n",
       "    .dataframe thead th {\n",
       "        text-align: right;\n",
       "    }\n",
       "</style>\n",
       "<table border=\"1\" class=\"dataframe\">\n",
       "  <thead>\n",
       "    <tr style=\"text-align: right;\">\n",
       "      <th></th>\n",
       "      <th>player_id</th>\n",
       "      <th>country</th>\n",
       "      <th>followers</th>\n",
       "      <th>last_online</th>\n",
       "      <th>joined</th>\n",
       "      <th>is_streamer</th>\n",
       "      <th>status</th>\n",
       "      <th>title</th>\n",
       "      <th>best_rapid_rating</th>\n",
       "      <th>best_blitz_rating</th>\n",
       "      <th>best_bullet_rating</th>\n",
       "      <th>match_count</th>\n",
       "    </tr>\n",
       "    <tr>\n",
       "      <th>username</th>\n",
       "      <th></th>\n",
       "      <th></th>\n",
       "      <th></th>\n",
       "      <th></th>\n",
       "      <th></th>\n",
       "      <th></th>\n",
       "      <th></th>\n",
       "      <th></th>\n",
       "      <th></th>\n",
       "      <th></th>\n",
       "      <th></th>\n",
       "      <th></th>\n",
       "    </tr>\n",
       "  </thead>\n",
       "  <tbody>\n",
       "    <tr>\n",
       "      <th>00000al</th>\n",
       "      <td>78469178</td>\n",
       "      <td>BR</td>\n",
       "      <td>1</td>\n",
       "      <td>1612232011</td>\n",
       "      <td>1588502506</td>\n",
       "      <td>False</td>\n",
       "      <td>basic</td>\n",
       "      <td>None</td>\n",
       "      <td>0</td>\n",
       "      <td>863</td>\n",
       "      <td>817</td>\n",
       "      <td>1451</td>\n",
       "    </tr>\n",
       "    <tr>\n",
       "      <th>0002vinicius</th>\n",
       "      <td>85274162</td>\n",
       "      <td>BR</td>\n",
       "      <td>0</td>\n",
       "      <td>1612224014</td>\n",
       "      <td>1593628642</td>\n",
       "      <td>False</td>\n",
       "      <td>basic</td>\n",
       "      <td>None</td>\n",
       "      <td>901</td>\n",
       "      <td>537</td>\n",
       "      <td>0</td>\n",
       "      <td>50</td>\n",
       "    </tr>\n",
       "    <tr>\n",
       "      <th>00093</th>\n",
       "      <td>69940288</td>\n",
       "      <td>BR</td>\n",
       "      <td>2</td>\n",
       "      <td>1612197397</td>\n",
       "      <td>1577473250</td>\n",
       "      <td>False</td>\n",
       "      <td>basic</td>\n",
       "      <td>None</td>\n",
       "      <td>0</td>\n",
       "      <td>0</td>\n",
       "      <td>0</td>\n",
       "      <td>12</td>\n",
       "    </tr>\n",
       "    <tr>\n",
       "      <th>0010100ff</th>\n",
       "      <td>102104660</td>\n",
       "      <td>BR</td>\n",
       "      <td>5</td>\n",
       "      <td>1612235831</td>\n",
       "      <td>1607222116</td>\n",
       "      <td>False</td>\n",
       "      <td>premium</td>\n",
       "      <td>None</td>\n",
       "      <td>861</td>\n",
       "      <td>470</td>\n",
       "      <td>549</td>\n",
       "      <td>105</td>\n",
       "    </tr>\n",
       "    <tr>\n",
       "      <th>001uc4s</th>\n",
       "      <td>100415146</td>\n",
       "      <td>BR</td>\n",
       "      <td>1</td>\n",
       "      <td>1612247004</td>\n",
       "      <td>1606671791</td>\n",
       "      <td>False</td>\n",
       "      <td>basic</td>\n",
       "      <td>None</td>\n",
       "      <td>469</td>\n",
       "      <td>0</td>\n",
       "      <td>354</td>\n",
       "      <td>108</td>\n",
       "    </tr>\n",
       "  </tbody>\n",
       "</table>\n",
       "</div>"
      ],
      "text/plain": [
       "              player_id country followers last_online      joined is_streamer  \\\n",
       "username                                                                        \n",
       "00000al        78469178      BR         1  1612232011  1588502506       False   \n",
       "0002vinicius   85274162      BR         0  1612224014  1593628642       False   \n",
       "00093          69940288      BR         2  1612197397  1577473250       False   \n",
       "0010100ff     102104660      BR         5  1612235831  1607222116       False   \n",
       "001uc4s       100415146      BR         1  1612247004  1606671791       False   \n",
       "\n",
       "               status title best_rapid_rating best_blitz_rating  \\\n",
       "username                                                          \n",
       "00000al         basic  None                 0               863   \n",
       "0002vinicius    basic  None               901               537   \n",
       "00093           basic  None                 0                 0   \n",
       "0010100ff     premium  None               861               470   \n",
       "001uc4s         basic  None               469                 0   \n",
       "\n",
       "             best_bullet_rating  match_count  \n",
       "username                                      \n",
       "00000al                     817         1451  \n",
       "0002vinicius                  0           50  \n",
       "00093                         0           12  \n",
       "0010100ff                   549          105  \n",
       "001uc4s                     354          108  "
      ]
     },
     "execution_count": 12,
     "metadata": {},
     "output_type": "execute_result"
    }
   ],
   "source": [
    "filtro_matchcount = n_df_players['match_count'] != 0\n",
    "nn_df_players = n_df_players[filtro_matchcount]\n",
    "nn_df_players.head()"
   ]
  },
  {
   "cell_type": "markdown",
   "metadata": {
    "id": "48PkfQAjmKCU"
   },
   "source": [
    "# TESTE DE PERMUTAÇÃO COM O RATING DO BLITZ"
   ]
  },
  {
   "cell_type": "code",
   "execution_count": 31,
   "metadata": {
    "colab": {
     "base_uri": "https://localhost:8080/",
     "height": 258
    },
    "id": "IIhmSgDEmJFY",
    "outputId": "ddac5c9a-2137-49fa-ca36-3abeeb53f3e0"
   },
   "outputs": [
    {
     "data": {
      "text/html": [
       "<div>\n",
       "<style scoped>\n",
       "    .dataframe tbody tr th:only-of-type {\n",
       "        vertical-align: middle;\n",
       "    }\n",
       "\n",
       "    .dataframe tbody tr th {\n",
       "        vertical-align: top;\n",
       "    }\n",
       "\n",
       "    .dataframe thead th {\n",
       "        text-align: right;\n",
       "    }\n",
       "</style>\n",
       "<table border=\"1\" class=\"dataframe\">\n",
       "  <thead>\n",
       "    <tr style=\"text-align: right;\">\n",
       "      <th></th>\n",
       "      <th>player_id</th>\n",
       "      <th>country</th>\n",
       "      <th>followers</th>\n",
       "      <th>last_online</th>\n",
       "      <th>joined</th>\n",
       "      <th>is_streamer</th>\n",
       "      <th>status</th>\n",
       "      <th>title</th>\n",
       "      <th>best_rapid_rating</th>\n",
       "      <th>best_blitz_rating</th>\n",
       "      <th>best_bullet_rating</th>\n",
       "      <th>match_count</th>\n",
       "    </tr>\n",
       "    <tr>\n",
       "      <th>username</th>\n",
       "      <th></th>\n",
       "      <th></th>\n",
       "      <th></th>\n",
       "      <th></th>\n",
       "      <th></th>\n",
       "      <th></th>\n",
       "      <th></th>\n",
       "      <th></th>\n",
       "      <th></th>\n",
       "      <th></th>\n",
       "      <th></th>\n",
       "      <th></th>\n",
       "    </tr>\n",
       "  </thead>\n",
       "  <tbody>\n",
       "    <tr>\n",
       "      <th>00000al</th>\n",
       "      <td>78469178</td>\n",
       "      <td>BR</td>\n",
       "      <td>1</td>\n",
       "      <td>1612232011</td>\n",
       "      <td>1588502506</td>\n",
       "      <td>False</td>\n",
       "      <td>basic</td>\n",
       "      <td>None</td>\n",
       "      <td>0</td>\n",
       "      <td>863</td>\n",
       "      <td>817</td>\n",
       "      <td>1451</td>\n",
       "    </tr>\n",
       "    <tr>\n",
       "      <th>0002vinicius</th>\n",
       "      <td>85274162</td>\n",
       "      <td>BR</td>\n",
       "      <td>0</td>\n",
       "      <td>1612224014</td>\n",
       "      <td>1593628642</td>\n",
       "      <td>False</td>\n",
       "      <td>basic</td>\n",
       "      <td>None</td>\n",
       "      <td>901</td>\n",
       "      <td>537</td>\n",
       "      <td>0</td>\n",
       "      <td>50</td>\n",
       "    </tr>\n",
       "    <tr>\n",
       "      <th>0010100ff</th>\n",
       "      <td>102104660</td>\n",
       "      <td>BR</td>\n",
       "      <td>5</td>\n",
       "      <td>1612235831</td>\n",
       "      <td>1607222116</td>\n",
       "      <td>False</td>\n",
       "      <td>premium</td>\n",
       "      <td>None</td>\n",
       "      <td>861</td>\n",
       "      <td>470</td>\n",
       "      <td>549</td>\n",
       "      <td>105</td>\n",
       "    </tr>\n",
       "    <tr>\n",
       "      <th>0079davi</th>\n",
       "      <td>63076312</td>\n",
       "      <td>BR</td>\n",
       "      <td>7</td>\n",
       "      <td>1612192244</td>\n",
       "      <td>1562551147</td>\n",
       "      <td>False</td>\n",
       "      <td>basic</td>\n",
       "      <td>None</td>\n",
       "      <td>1104</td>\n",
       "      <td>1265</td>\n",
       "      <td>987</td>\n",
       "      <td>473</td>\n",
       "    </tr>\n",
       "    <tr>\n",
       "      <th>007contra</th>\n",
       "      <td>107040954</td>\n",
       "      <td>BR</td>\n",
       "      <td>0</td>\n",
       "      <td>1612232393</td>\n",
       "      <td>1608921507</td>\n",
       "      <td>False</td>\n",
       "      <td>basic</td>\n",
       "      <td>None</td>\n",
       "      <td>872</td>\n",
       "      <td>687</td>\n",
       "      <td>0</td>\n",
       "      <td>95</td>\n",
       "    </tr>\n",
       "  </tbody>\n",
       "</table>\n",
       "</div>"
      ],
      "text/plain": [
       "              player_id country followers last_online      joined is_streamer  \\\n",
       "username                                                                        \n",
       "00000al        78469178      BR         1  1612232011  1588502506       False   \n",
       "0002vinicius   85274162      BR         0  1612224014  1593628642       False   \n",
       "0010100ff     102104660      BR         5  1612235831  1607222116       False   \n",
       "0079davi       63076312      BR         7  1612192244  1562551147       False   \n",
       "007contra     107040954      BR         0  1612232393  1608921507       False   \n",
       "\n",
       "               status title best_rapid_rating best_blitz_rating  \\\n",
       "username                                                          \n",
       "00000al         basic  None                 0               863   \n",
       "0002vinicius    basic  None               901               537   \n",
       "0010100ff     premium  None               861               470   \n",
       "0079davi        basic  None              1104              1265   \n",
       "007contra       basic  None               872               687   \n",
       "\n",
       "             best_bullet_rating  match_count  \n",
       "username                                      \n",
       "00000al                     817         1451  \n",
       "0002vinicius                  0           50  \n",
       "0010100ff                   549          105  \n",
       "0079davi                    987          473  \n",
       "007contra                     0           95  "
      ]
     },
     "execution_count": 31,
     "metadata": {},
     "output_type": "execute_result"
    }
   ],
   "source": [
    "filtro_blitz = nn_df_players['best_blitz_rating'] != 0\n",
    "df_blitz = nn_df_players[filtro_blitz]\n",
    "df_blitz.head()"
   ]
  },
  {
   "cell_type": "code",
   "execution_count": 32,
   "metadata": {
    "colab": {
     "base_uri": "https://localhost:8080/",
     "height": 344
    },
    "id": "iIqi53Yqm9O4",
    "outputId": "c48d91fb-f71a-4f3f-f435-8a5dde2395cb"
   },
   "outputs": [
    {
     "name": "stderr",
     "output_type": "stream",
     "text": [
      "/home/isaac/.local/lib/python3.8/site-packages/pandas/core/frame.py:4305: SettingWithCopyWarning: \n",
      "A value is trying to be set on a copy of a slice from a DataFrame\n",
      "\n",
      "See the caveats in the documentation: https://pandas.pydata.org/pandas-docs/stable/user_guide/indexing.html#returning-a-view-versus-a-copy\n",
      "  return super().drop(\n"
     ]
    },
    {
     "data": {
      "text/html": [
       "<div>\n",
       "<style scoped>\n",
       "    .dataframe tbody tr th:only-of-type {\n",
       "        vertical-align: middle;\n",
       "    }\n",
       "\n",
       "    .dataframe tbody tr th {\n",
       "        vertical-align: top;\n",
       "    }\n",
       "\n",
       "    .dataframe thead th {\n",
       "        text-align: right;\n",
       "    }\n",
       "</style>\n",
       "<table border=\"1\" class=\"dataframe\">\n",
       "  <thead>\n",
       "    <tr style=\"text-align: right;\">\n",
       "      <th></th>\n",
       "      <th>best_blitz_rating</th>\n",
       "      <th>match_count</th>\n",
       "    </tr>\n",
       "    <tr>\n",
       "      <th>username</th>\n",
       "      <th></th>\n",
       "      <th></th>\n",
       "    </tr>\n",
       "  </thead>\n",
       "  <tbody>\n",
       "    <tr>\n",
       "      <th>00000al</th>\n",
       "      <td>863</td>\n",
       "      <td>1451</td>\n",
       "    </tr>\n",
       "    <tr>\n",
       "      <th>0002vinicius</th>\n",
       "      <td>537</td>\n",
       "      <td>50</td>\n",
       "    </tr>\n",
       "    <tr>\n",
       "      <th>0010100ff</th>\n",
       "      <td>470</td>\n",
       "      <td>105</td>\n",
       "    </tr>\n",
       "    <tr>\n",
       "      <th>0079davi</th>\n",
       "      <td>1265</td>\n",
       "      <td>473</td>\n",
       "    </tr>\n",
       "    <tr>\n",
       "      <th>007contra</th>\n",
       "      <td>687</td>\n",
       "      <td>95</td>\n",
       "    </tr>\n",
       "  </tbody>\n",
       "</table>\n",
       "</div>"
      ],
      "text/plain": [
       "             best_blitz_rating  match_count\n",
       "username                                   \n",
       "00000al                    863         1451\n",
       "0002vinicius               537           50\n",
       "0010100ff                  470          105\n",
       "0079davi                  1265          473\n",
       "007contra                  687           95"
      ]
     },
     "execution_count": 32,
     "metadata": {},
     "output_type": "execute_result"
    }
   ],
   "source": [
    "df_blitz.drop(columns=['player_id', 'country', 'followers', 'last_online', 'joined', 'is_streamer', 'status', 'title', 'best_rapid_rating', 'best_bullet_rating'], inplace=True)\n",
    "df_blitz.head()"
   ]
  },
  {
   "cell_type": "code",
   "execution_count": 33,
   "metadata": {
    "colab": {
     "base_uri": "https://localhost:8080/"
    },
    "id": "l0ej3OYgoakU",
    "outputId": "8633bb6f-60b2-4100-9d5c-2d1bc24a0de6"
   },
   "outputs": [
    {
     "name": "stdout",
     "output_type": "stream",
     "text": [
      "1896.75\n"
     ]
    }
   ],
   "source": [
    "# achar o rating que vai separar low elo de high elo\n",
    "porc = 0.75\n",
    "x = df_blitz['best_blitz_rating'].max() * porc\n",
    "print(x)"
   ]
  },
  {
   "cell_type": "code",
   "execution_count": 34,
   "metadata": {
    "colab": {
     "base_uri": "https://localhost:8080/"
    },
    "id": "xMUyifS2n1Vg",
    "outputId": "8368dcac-d014-49c2-d4f3-c3b638ea91d1"
   },
   "outputs": [
    {
     "name": "stdout",
     "output_type": "stream",
     "text": [
      "high elo 47 - low elo 1448\n"
     ]
    }
   ],
   "source": [
    "# mostra a diferença de quantidade de pessoas high elo pra pessoas low elo\n",
    "f = df_blitz['best_blitz_rating'] > int(x)\n",
    "print(f'high elo {len(df_blitz[f])} - low elo {len(df_blitz[~f])}')"
   ]
  },
  {
   "cell_type": "code",
   "execution_count": 35,
   "metadata": {
    "colab": {
     "base_uri": "https://localhost:8080/"
    },
    "id": "b4VYIWqcB8Ac",
    "outputId": "cb649c7c-87b9-488e-a81d-42bc56c5599f"
   },
   "outputs": [
    {
     "name": "stdout",
     "output_type": "stream",
     "text": [
      "stat observado 5271.766030915716\n",
      "soma de partidas highelo 308674\n",
      "soma de partidas lowelo 1876269\n",
      "media de partidas highelo 6567.531914893617\n",
      "media de partidas lowelo 1295.7658839779006\n"
     ]
    }
   ],
   "source": [
    "# vamos observar essa estatística: a diferença na média\n",
    "stat_obs = df_blitz[f]['match_count'].mean() - df_blitz[~f]['match_count'].mean()\n",
    "print(f'stat observado {stat_obs}')\n",
    "print(f'soma de partidas highelo {df_blitz[f][\"match_count\"].sum()}')\n",
    "print(f'soma de partidas lowelo {df_blitz[~f][\"match_count\"].sum()}')\n",
    "print(f'media de partidas highelo {df_blitz[f][\"match_count\"].mean()}')\n",
    "print(f'media de partidas lowelo {df_blitz[~f][\"match_count\"].mean()}')"
   ]
  },
  {
   "cell_type": "code",
   "execution_count": 52,
   "metadata": {
    "id": "QGV9NIhgDre0"
   },
   "outputs": [],
   "source": [
    "# calcule a diferença de média para 10000 testes\n",
    "N = 100000\n",
    "\n",
    "diff = np.zeros(N)\n",
    "for i in range(N):\n",
    "  # bagunce nosso filtro pra permutar quem é highelo e quem é lowelo\n",
    "  f_t = f\n",
    "  np.random.shuffle(f_t.values)\n",
    "  # adicione a nova observação no vetor\n",
    "  diff[i] = df_blitz[f_t]['match_count'].mean() - df_blitz[~f_t]['match_count'].mean()"
   ]
  },
  {
   "cell_type": "code",
   "execution_count": 39,
   "metadata": {},
   "outputs": [],
   "source": []
  },
  {
   "cell_type": "code",
   "execution_count": 59,
   "metadata": {},
   "outputs": [],
   "source": []
  },
  {
   "cell_type": "code",
   "execution_count": 75,
   "metadata": {
    "colab": {
     "base_uri": "https://localhost:8080/",
     "height": 279
    },
    "id": "Y6Vpu1RdEqAY",
    "outputId": "b7dde7e5-031e-42f6-fd99-cb7b5dbefa83"
   },
   "outputs": [
    {
     "data": {
      "image/png": "[encoded data removed]",
      "text/plain": [
       "<Figure size 432x288 with 1 Axes>"
      ]
     },
     "metadata": {
      "needs_background": "light"
     },
     "output_type": "display_data"
    }
   ],
   "source": [
    "# plote um grafico com o vetor de diferenças\n",
    "plt.hist(diff, bins=20, edgecolor='k')\n",
    "plt.xlabel('Diferença Entre as Médias')\n",
    "plt.ylabel('Quantidade de Ocorrências')\n",
    "plt.title('Jan 2019 - Dez 2020\\nHistograma da Diferença da Média')\n",
    "plt.vlines(stat_obs,0,17500, color='red', label='Diferença observada inicialmente', linestyles = 'dashed')\n",
    "plt.legend()\n",
    "plt.savefig(\"diff_media.pdf\")"
   ]
  },
  {
   "cell_type": "code",
   "execution_count": 20,
   "metadata": {
    "colab": {
     "base_uri": "https://localhost:8080/"
    },
    "id": "kc4cUt7sE2-E",
    "outputId": "73205765-8f7d-466a-ff10-f27f92c6fd60"
   },
   "outputs": [
    {
     "name": "stdout",
     "output_type": "stream",
     "text": [
      "-629.4348643029269 818.1741892706001\n",
      "stat observado: 5271.766030915716\n"
     ]
    }
   ],
   "source": [
    "# qualquer valor dentro desses extremos seria explicado pela casualidade\n",
    "print(np.percentile(diff,2.5),np.percentile(diff,97.5))\n",
    "print(f'stat observado: {stat_obs}')"
   ]
  },
  {
   "cell_type": "markdown",
   "metadata": {
    "id": "N0ZuVocrFH1w"
   },
   "source": [
    "CONCLUSÃO: Como a casualidade não pode explicar os nossos dados, então nos resta assumir que não é uma coincidência que jogadores de maior rating jogam mais partidas."
   ]
  },
  {
   "cell_type": "markdown",
   "metadata": {
    "id": "I-ICCCLumRXE"
   },
   "source": [
    "# TESTE DE PERMUTAÇÃO COM O RATING DO RAPID"
   ]
  },
  {
   "cell_type": "code",
   "execution_count": 21,
   "metadata": {
    "colab": {
     "base_uri": "https://localhost:8080/",
     "height": 258
    },
    "id": "HMWFFoOzmc4k",
    "outputId": "bc0cf07f-6808-4120-910f-09d3a641a55f"
   },
   "outputs": [
    {
     "data": {
      "text/html": [
       "<div>\n",
       "<style scoped>\n",
       "    .dataframe tbody tr th:only-of-type {\n",
       "        vertical-align: middle;\n",
       "    }\n",
       "\n",
       "    .dataframe tbody tr th {\n",
       "        vertical-align: top;\n",
       "    }\n",
       "\n",
       "    .dataframe thead th {\n",
       "        text-align: right;\n",
       "    }\n",
       "</style>\n",
       "<table border=\"1\" class=\"dataframe\">\n",
       "  <thead>\n",
       "    <tr style=\"text-align: right;\">\n",
       "      <th></th>\n",
       "      <th>player_id</th>\n",
       "      <th>country</th>\n",
       "      <th>followers</th>\n",
       "      <th>last_online</th>\n",
       "      <th>joined</th>\n",
       "      <th>is_streamer</th>\n",
       "      <th>status</th>\n",
       "      <th>title</th>\n",
       "      <th>best_rapid_rating</th>\n",
       "      <th>best_blitz_rating</th>\n",
       "      <th>best_bullet_rating</th>\n",
       "      <th>match_count</th>\n",
       "    </tr>\n",
       "    <tr>\n",
       "      <th>username</th>\n",
       "      <th></th>\n",
       "      <th></th>\n",
       "      <th></th>\n",
       "      <th></th>\n",
       "      <th></th>\n",
       "      <th></th>\n",
       "      <th></th>\n",
       "      <th></th>\n",
       "      <th></th>\n",
       "      <th></th>\n",
       "      <th></th>\n",
       "      <th></th>\n",
       "    </tr>\n",
       "  </thead>\n",
       "  <tbody>\n",
       "    <tr>\n",
       "      <th>0002vinicius</th>\n",
       "      <td>85274162</td>\n",
       "      <td>BR</td>\n",
       "      <td>0</td>\n",
       "      <td>1612224014</td>\n",
       "      <td>1593628642</td>\n",
       "      <td>False</td>\n",
       "      <td>basic</td>\n",
       "      <td>None</td>\n",
       "      <td>901</td>\n",
       "      <td>537</td>\n",
       "      <td>0</td>\n",
       "      <td>50</td>\n",
       "    </tr>\n",
       "    <tr>\n",
       "      <th>0010100ff</th>\n",
       "      <td>102104660</td>\n",
       "      <td>BR</td>\n",
       "      <td>5</td>\n",
       "      <td>1612235831</td>\n",
       "      <td>1607222116</td>\n",
       "      <td>False</td>\n",
       "      <td>premium</td>\n",
       "      <td>None</td>\n",
       "      <td>861</td>\n",
       "      <td>470</td>\n",
       "      <td>549</td>\n",
       "      <td>105</td>\n",
       "    </tr>\n",
       "    <tr>\n",
       "      <th>001uc4s</th>\n",
       "      <td>100415146</td>\n",
       "      <td>BR</td>\n",
       "      <td>1</td>\n",
       "      <td>1612247004</td>\n",
       "      <td>1606671791</td>\n",
       "      <td>False</td>\n",
       "      <td>basic</td>\n",
       "      <td>None</td>\n",
       "      <td>469</td>\n",
       "      <td>0</td>\n",
       "      <td>354</td>\n",
       "      <td>108</td>\n",
       "    </tr>\n",
       "    <tr>\n",
       "      <th>001victor</th>\n",
       "      <td>102628520</td>\n",
       "      <td>BR</td>\n",
       "      <td>0</td>\n",
       "      <td>1612210530</td>\n",
       "      <td>1607389017</td>\n",
       "      <td>False</td>\n",
       "      <td>basic</td>\n",
       "      <td>None</td>\n",
       "      <td>907</td>\n",
       "      <td>0</td>\n",
       "      <td>0</td>\n",
       "      <td>118</td>\n",
       "    </tr>\n",
       "    <tr>\n",
       "      <th>0079davi</th>\n",
       "      <td>63076312</td>\n",
       "      <td>BR</td>\n",
       "      <td>7</td>\n",
       "      <td>1612192244</td>\n",
       "      <td>1562551147</td>\n",
       "      <td>False</td>\n",
       "      <td>basic</td>\n",
       "      <td>None</td>\n",
       "      <td>1104</td>\n",
       "      <td>1265</td>\n",
       "      <td>987</td>\n",
       "      <td>473</td>\n",
       "    </tr>\n",
       "  </tbody>\n",
       "</table>\n",
       "</div>"
      ],
      "text/plain": [
       "              player_id country followers last_online      joined is_streamer  \\\n",
       "username                                                                        \n",
       "0002vinicius   85274162      BR         0  1612224014  1593628642       False   \n",
       "0010100ff     102104660      BR         5  1612235831  1607222116       False   \n",
       "001uc4s       100415146      BR         1  1612247004  1606671791       False   \n",
       "001victor     102628520      BR         0  1612210530  1607389017       False   \n",
       "0079davi       63076312      BR         7  1612192244  1562551147       False   \n",
       "\n",
       "               status title best_rapid_rating best_blitz_rating  \\\n",
       "username                                                          \n",
       "0002vinicius    basic  None               901               537   \n",
       "0010100ff     premium  None               861               470   \n",
       "001uc4s         basic  None               469                 0   \n",
       "001victor       basic  None               907                 0   \n",
       "0079davi        basic  None              1104              1265   \n",
       "\n",
       "             best_bullet_rating  match_count  \n",
       "username                                      \n",
       "0002vinicius                  0           50  \n",
       "0010100ff                   549          105  \n",
       "001uc4s                     354          108  \n",
       "001victor                     0          118  \n",
       "0079davi                    987          473  "
      ]
     },
     "execution_count": 21,
     "metadata": {},
     "output_type": "execute_result"
    }
   ],
   "source": [
    "filtro_rapid = nn_df_players['best_rapid_rating'] != 0\n",
    "df_rapid = nn_df_players[filtro_rapid]\n",
    "df_rapid.head()"
   ]
  },
  {
   "cell_type": "code",
   "execution_count": 22,
   "metadata": {
    "colab": {
     "base_uri": "https://localhost:8080/",
     "height": 344
    },
    "id": "aC2rRQD-nsyo",
    "outputId": "f0f0a0d2-517b-48ad-e7a6-1e21060244be"
   },
   "outputs": [
    {
     "name": "stderr",
     "output_type": "stream",
     "text": [
      "/home/isaac/.local/lib/python3.8/site-packages/pandas/core/frame.py:4305: SettingWithCopyWarning: \n",
      "A value is trying to be set on a copy of a slice from a DataFrame\n",
      "\n",
      "See the caveats in the documentation: https://pandas.pydata.org/pandas-docs/stable/user_guide/indexing.html#returning-a-view-versus-a-copy\n",
      "  return super().drop(\n"
     ]
    },
    {
     "data": {
      "text/html": [
       "<div>\n",
       "<style scoped>\n",
       "    .dataframe tbody tr th:only-of-type {\n",
       "        vertical-align: middle;\n",
       "    }\n",
       "\n",
       "    .dataframe tbody tr th {\n",
       "        vertical-align: top;\n",
       "    }\n",
       "\n",
       "    .dataframe thead th {\n",
       "        text-align: right;\n",
       "    }\n",
       "</style>\n",
       "<table border=\"1\" class=\"dataframe\">\n",
       "  <thead>\n",
       "    <tr style=\"text-align: right;\">\n",
       "      <th></th>\n",
       "      <th>best_rapid_rating</th>\n",
       "      <th>match_count</th>\n",
       "    </tr>\n",
       "    <tr>\n",
       "      <th>username</th>\n",
       "      <th></th>\n",
       "      <th></th>\n",
       "    </tr>\n",
       "  </thead>\n",
       "  <tbody>\n",
       "    <tr>\n",
       "      <th>0002vinicius</th>\n",
       "      <td>901</td>\n",
       "      <td>50</td>\n",
       "    </tr>\n",
       "    <tr>\n",
       "      <th>0010100ff</th>\n",
       "      <td>861</td>\n",
       "      <td>105</td>\n",
       "    </tr>\n",
       "    <tr>\n",
       "      <th>001uc4s</th>\n",
       "      <td>469</td>\n",
       "      <td>108</td>\n",
       "    </tr>\n",
       "    <tr>\n",
       "      <th>001victor</th>\n",
       "      <td>907</td>\n",
       "      <td>118</td>\n",
       "    </tr>\n",
       "    <tr>\n",
       "      <th>0079davi</th>\n",
       "      <td>1104</td>\n",
       "      <td>473</td>\n",
       "    </tr>\n",
       "  </tbody>\n",
       "</table>\n",
       "</div>"
      ],
      "text/plain": [
       "             best_rapid_rating  match_count\n",
       "username                                   \n",
       "0002vinicius               901           50\n",
       "0010100ff                  861          105\n",
       "001uc4s                    469          108\n",
       "001victor                  907          118\n",
       "0079davi                  1104          473"
      ]
     },
     "execution_count": 22,
     "metadata": {},
     "output_type": "execute_result"
    }
   ],
   "source": [
    "df_rapid.drop(columns=['player_id', 'country', 'followers', 'last_online', 'joined', 'is_streamer', 'status', 'title', 'best_blitz_rating', 'best_bullet_rating'], inplace=True)\n",
    "df_rapid.head()"
   ]
  },
  {
   "cell_type": "code",
   "execution_count": 23,
   "metadata": {
    "colab": {
     "base_uri": "https://localhost:8080/"
    },
    "id": "txdmJ1rzFSYw",
    "outputId": "2e4b68ca-698c-41f4-b1c8-12be8553a74a"
   },
   "outputs": [
    {
     "name": "stdout",
     "output_type": "stream",
     "text": [
      "1736.25\n"
     ]
    }
   ],
   "source": [
    "# achar o rating que vai separar low elo de high elo\n",
    "porc = 0.75\n",
    "x = df_rapid['best_rapid_rating'].max() * porc\n",
    "print(x)"
   ]
  },
  {
   "cell_type": "code",
   "execution_count": 24,
   "metadata": {
    "colab": {
     "base_uri": "https://localhost:8080/"
    },
    "id": "faPztfn5FSlQ",
    "outputId": "d177cb98-738f-4803-d6d6-a171af43cb25"
   },
   "outputs": [
    {
     "name": "stdout",
     "output_type": "stream",
     "text": [
      "high elo 76 - low elo 1435\n"
     ]
    }
   ],
   "source": [
    "# mostra a diferença de quantidade de pessoas high elo pra pessoas low elo\n",
    "f = df_rapid['best_rapid_rating'] > int(x)\n",
    "print(f'high elo {len(df_rapid[f])} - low elo {len(df_rapid[~f])}')"
   ]
  },
  {
   "cell_type": "code",
   "execution_count": 25,
   "metadata": {
    "colab": {
     "base_uri": "https://localhost:8080/"
    },
    "id": "8xrLoasSFSxw",
    "outputId": "1bee00dc-c67a-4496-b703-3f79093c2ae6"
   },
   "outputs": [
    {
     "name": "stdout",
     "output_type": "stream",
     "text": [
      "stat observado 2362.668824500275\n",
      "soma de partidas highelo 259010\n",
      "soma de partidas lowelo 1500088\n",
      "media de partidas highelo 3408.0263157894738\n",
      "media de partidas lowelo 1045.3574912891986\n"
     ]
    }
   ],
   "source": [
    "# vamos observar essa estatística: a diferença na média\n",
    "stat_obs = df_rapid[f]['match_count'].mean() - df_rapid[~f]['match_count'].mean()\n",
    "print(f'stat observado {stat_obs}')\n",
    "print(f'soma de partidas highelo {df_rapid[f][\"match_count\"].sum()}')\n",
    "print(f'soma de partidas lowelo {df_rapid[~f][\"match_count\"].sum()}')\n",
    "print(f'media de partidas highelo {df_rapid[f][\"match_count\"].mean()}')\n",
    "print(f'media de partidas lowelo {df_rapid[~f][\"match_count\"].mean()}')"
   ]
  },
  {
   "cell_type": "code",
   "execution_count": 26,
   "metadata": {
    "id": "N8H9Y3lUFS_0"
   },
   "outputs": [],
   "source": [
    "# calcule a diferença de média para 10000 testes\n",
    "N = 10000\n",
    "\n",
    "diff = np.zeros(N)\n",
    "for i in range(N):\n",
    "  # bagunce nosso filtro pra permutar quem é highelo e quem é lowelo\n",
    "  f_t = f\n",
    "  np.random.shuffle(f_t.values)\n",
    "  # adicione a nova observação no vetor\n",
    "  diff[i] = df_rapid[f_t]['match_count'].mean() - df_rapid[~f_t]['match_count'].mean()"
   ]
  },
  {
   "cell_type": "code",
   "execution_count": 27,
   "metadata": {
    "colab": {
     "base_uri": "https://localhost:8080/",
     "height": 279
    },
    "id": "4vC_yud8FTJM",
    "outputId": "bf6deba4-102b-4bf4-eda8-ac4e18e694c0"
   },
   "outputs": [
    {
     "data": {
      "image/png": "[encoded data removed]",
      "text/plain": [
       "<Figure size 432x288 with 1 Axes>"
      ]
     },
     "metadata": {
      "needs_background": "light"
     },
     "output_type": "display_data"
    }
   ],
   "source": [
    "# plote um grafico com o vetor de diferenças\n",
    "plt.hist(diff, bins=50, edgecolor='k')\n",
    "plt.xlabel('Diferença na Permutação')\n",
    "plt.ylabel('Pr(diff)')\n",
    "plt.show()"
   ]
  },
  {
   "cell_type": "code",
   "execution_count": 28,
   "metadata": {
    "colab": {
     "base_uri": "https://localhost:8080/"
    },
    "id": "5F75a2cOF1vQ",
    "outputId": "8f2c4269-526b-4abd-f916-43c95eb18dab"
   },
   "outputs": [
    {
     "name": "stdout",
     "output_type": "stream",
     "text": [
      "-442.48203190904076 561.7025765633595\n",
      "stat observado: 2362.668824500275\n"
     ]
    }
   ],
   "source": [
    "# qualquer valor dentro desses extremos seria explicado pela casualidade\n",
    "print(np.percentile(diff,2.5),np.percentile(diff,97.5))\n",
    "print(f'stat observado: {stat_obs}')"
   ]
  },
  {
   "cell_type": "markdown",
   "metadata": {
    "id": "yWIhdjWCGDxs"
   },
   "source": [
    "CONCLUSÃO: Como a casualidade não pode explicar os nossos dados, então nos resta assumir que não é uma coincidência que jogadores de maior rating jogam mais partidas."
   ]
  }
 ],
 "metadata": {
  "colab": {
   "collapsed_sections": [],
   "name": "hipoteseTesteTP.ipynb",
   "provenance": []
  },
  "kernelspec": {
   "display_name": "Python 3",
   "language": "python",
   "name": "python3"
  },
  "language_info": {
   "codemirror_mode": {
    "name": "ipython",
    "version": 3
   },
   "file_extension": ".py",
   "mimetype": "text/x-python",
   "name": "python",
   "nbconvert_exporter": "python",
   "pygments_lexer": "ipython3",
   "version": "3.8.5"
  }
 },
 "nbformat": 4,
 "nbformat_minor": 1
}
